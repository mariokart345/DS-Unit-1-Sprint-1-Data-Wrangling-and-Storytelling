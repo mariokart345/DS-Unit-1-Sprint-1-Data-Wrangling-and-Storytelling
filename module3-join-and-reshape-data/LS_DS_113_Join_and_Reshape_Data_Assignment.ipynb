{
  "nbformat": 4,
  "nbformat_minor": 0,
  "metadata": {
    "colab": {
      "name": "LS_DS_113_Join_and_Reshape_Data_Assignment.ipynb",
      "provenance": [],
      "collapsed_sections": [],
      "machine_shape": "hm"
    },
    "kernelspec": {
      "display_name": "Python 3",
      "language": "python",
      "name": "python3"
    }
  },
  "cells": [
    {
      "cell_type": "markdown",
      "metadata": {
        "id": "pmU5YUal1eTZ"
      },
      "source": [
        "_Lambda School Data Science_\n",
        "\n",
        "# Join and Reshape datasets\n",
        "\n",
        "Objectives\n",
        "- concatenate data with pandas\n",
        "- merge data with pandas\n",
        "-  understand tidy data formatting\n",
        "-  melt and pivot data with pandas\n",
        "\n",
        "Links\n",
        "- [Pandas Cheat Sheet](https://github.com/pandas-dev/pandas/blob/master/doc/cheatsheet/Pandas_Cheat_Sheet.pdf)\n",
        "- [Tidy Data](https://en.wikipedia.org/wiki/Tidy_data)\n",
        "  - Combine Data Sets: Standard Joins\n",
        "  - Tidy Data\n",
        "  - Reshaping Data\n",
        "- Python Data Science Handbook\n",
        "  - [Chapter 3.6](https://jakevdp.github.io/PythonDataScienceHandbook/03.06-concat-and-append.html), Combining Datasets: Concat and Append\n",
        "  - [Chapter 3.7](https://jakevdp.github.io/PythonDataScienceHandbook/03.07-merge-and-join.html), Combining Datasets: Merge and Join\n",
        "  - [Chapter 3.8](https://jakevdp.github.io/PythonDataScienceHandbook/03.08-aggregation-and-grouping.html), Aggregation and Grouping\n",
        "  - [Chapter 3.9](https://jakevdp.github.io/PythonDataScienceHandbook/03.09-pivot-tables.html), Pivot Tables\n",
        "  \n",
        "Reference\n",
        "- Pandas Documentation: [Reshaping and Pivot Tables](https://pandas.pydata.org/pandas-docs/stable/reshaping.html)\n",
        "- Modern Pandas, Part 5: [Tidy Data](https://tomaugspurger.github.io/modern-5-tidy.html)"
      ]
    },
    {
      "cell_type": "markdown",
      "metadata": {
        "id": "1rFCdBYk2tkc"
      },
      "source": [
        "#Use the following Instacart data to answer the assignment questions."
      ]
    },
    {
      "cell_type": "code",
      "metadata": {
        "id": "4E3wKrdTChuC",
        "outputId": "1f752c9d-ce22-438d-fb3c-05973c99db0b",
        "colab": {
          "base_uri": "https://localhost:8080/"
        }
      },
      "source": [
        "#!wget https://s3.amazonaws.com/instacart-datasets/instacart_online_grocery_shopping_2017_05_01.tar.gz \n",
        "\n",
        "# Make sure we're in the top-level /content directory\n",
        "#\n",
        "# See below for notes on the cd command and why it's %cd instead of !cd\n",
        "%cd /content\n",
        "\n",
        "# Remove everything in the current working directory\n",
        "#\n",
        "# rm is the remove command\n",
        "# -rf specifies the \"recursive\" and \"force\" options to remove all files in \n",
        "# subdirectories without prompting\n",
        "#\n",
        "# THIS IS A POWERFUL COMMAND!\n",
        "#\n",
        "# In this particular case, removing all of the files makes things easier if you\n",
        "# need to re-run these examples by allowing you start with a clean directory\n",
        "# every time.\n",
        "!rm -rf *\n",
        "\n",
        "# wget retrieves files from a remote location\n",
        "!wget https://www.dropbox.com/s/pofcl26lvoj6073/instacart-market-basket-analysis.zip"
      ],
      "execution_count": 1,
      "outputs": [
        {
          "output_type": "stream",
          "text": [
            "/content\n",
            "--2020-11-03 13:10:35--  https://www.dropbox.com/s/pofcl26lvoj6073/instacart-market-basket-analysis.zip\n",
            "Resolving www.dropbox.com (www.dropbox.com)... 162.125.9.1, 2620:100:601d:1::a27d:501\n",
            "Connecting to www.dropbox.com (www.dropbox.com)|162.125.9.1|:443... connected.\n",
            "HTTP request sent, awaiting response... 301 Moved Permanently\n",
            "Location: /s/raw/pofcl26lvoj6073/instacart-market-basket-analysis.zip [following]\n",
            "--2020-11-03 13:10:35--  https://www.dropbox.com/s/raw/pofcl26lvoj6073/instacart-market-basket-analysis.zip\n",
            "Reusing existing connection to www.dropbox.com:443.\n",
            "HTTP request sent, awaiting response... 302 Found\n",
            "Location: https://uc41780df717b52bb497ffbbefed.dl.dropboxusercontent.com/cd/0/inline/BCfVI546m49tYsl9LL8YIEE_wP8-3Ix3Hti0zy52XuQ0s43a8URXbHGTz5rWMVFcbLnoHpM9lY9jfCy1HZT8iTpIzyyHCJ2yL7qv2O5HiqDjejexSzYO_FhPZo-uPHxRrDg/file# [following]\n",
            "--2020-11-03 13:10:35--  https://uc41780df717b52bb497ffbbefed.dl.dropboxusercontent.com/cd/0/inline/BCfVI546m49tYsl9LL8YIEE_wP8-3Ix3Hti0zy52XuQ0s43a8URXbHGTz5rWMVFcbLnoHpM9lY9jfCy1HZT8iTpIzyyHCJ2yL7qv2O5HiqDjejexSzYO_FhPZo-uPHxRrDg/file\n",
            "Resolving uc41780df717b52bb497ffbbefed.dl.dropboxusercontent.com (uc41780df717b52bb497ffbbefed.dl.dropboxusercontent.com)... 162.125.9.15, 2620:100:601d:15::a27d:50f\n",
            "Connecting to uc41780df717b52bb497ffbbefed.dl.dropboxusercontent.com (uc41780df717b52bb497ffbbefed.dl.dropboxusercontent.com)|162.125.9.15|:443... connected.\n",
            "HTTP request sent, awaiting response... 302 Found\n",
            "Location: /cd/0/inline2/BCcg_7npb9ql6Ij67luoByd3K6gbXLrw28nZ2f3ls9oKHULZ1SNvOM5cqPjgOOd9xgpr5QZKoNJfhi1XOgahNbYTpZfQ98PdQ5FJcjh3v2cZmOlVWa1FMeKJralc8aAHWGTaN8RrNidrXaO5fBAkdeIRZCHxNQ7PGlF0x2Uf88VZtGI7bc4ghUUhRVai729SSqco2JGbQjT3NuQDAqQDXvAyujXy8QS4TUhOf46oXeMqk-6NsUXMevdtnhGDXLabBRBySZNlISiMtT3zJrh76tAUj8P9bHd0DDvRORbfGPP_ZE67pGuynLXTmstUeryUswHxGl34w07Vtxd63Jycow4lGBbNsQteXojjFDZXGzLAuA/file [following]\n",
            "--2020-11-03 13:10:36--  https://uc41780df717b52bb497ffbbefed.dl.dropboxusercontent.com/cd/0/inline2/BCcg_7npb9ql6Ij67luoByd3K6gbXLrw28nZ2f3ls9oKHULZ1SNvOM5cqPjgOOd9xgpr5QZKoNJfhi1XOgahNbYTpZfQ98PdQ5FJcjh3v2cZmOlVWa1FMeKJralc8aAHWGTaN8RrNidrXaO5fBAkdeIRZCHxNQ7PGlF0x2Uf88VZtGI7bc4ghUUhRVai729SSqco2JGbQjT3NuQDAqQDXvAyujXy8QS4TUhOf46oXeMqk-6NsUXMevdtnhGDXLabBRBySZNlISiMtT3zJrh76tAUj8P9bHd0DDvRORbfGPP_ZE67pGuynLXTmstUeryUswHxGl34w07Vtxd63Jycow4lGBbNsQteXojjFDZXGzLAuA/file\n",
            "Reusing existing connection to uc41780df717b52bb497ffbbefed.dl.dropboxusercontent.com:443.\n",
            "HTTP request sent, awaiting response... 200 OK\n",
            "Length: 205616541 (196M) [application/zip]\n",
            "Saving to: ‘instacart-market-basket-analysis.zip’\n",
            "\n",
            "instacart-market-ba 100%[===================>] 196.09M  23.5MB/s    in 8.3s    \n",
            "\n",
            "2020-11-03 13:10:45 (23.5 MB/s) - ‘instacart-market-basket-analysis.zip’ saved [205616541/205616541]\n",
            "\n"
          ],
          "name": "stdout"
        }
      ]
    },
    {
      "cell_type": "code",
      "metadata": {
        "id": "dkxqMNGrDJrM",
        "outputId": "3f9959eb-9edc-4250-8e48-1a3ad3b00431",
        "colab": {
          "base_uri": "https://localhost:8080/"
        }
      },
      "source": [
        "# Unzip the archive\n",
        "#\n",
        "# Creates a new directory called instacart-market-basket-analysis\n",
        "\n",
        "!unzip instacart-market-basket-analysis.zip"
      ],
      "execution_count": 2,
      "outputs": [
        {
          "output_type": "stream",
          "text": [
            "Archive:  instacart-market-basket-analysis.zip\n",
            "   creating: instacart-market-basket-analysis/\n",
            "  inflating: __MACOSX/._instacart-market-basket-analysis  \n",
            "  inflating: instacart-market-basket-analysis/order_products__prior.csv.zip  \n",
            "  inflating: __MACOSX/instacart-market-basket-analysis/._order_products__prior.csv.zip  \n",
            "  inflating: instacart-market-basket-analysis/.DS_Store  \n",
            "  inflating: __MACOSX/instacart-market-basket-analysis/._.DS_Store  \n",
            "  inflating: instacart-market-basket-analysis/order_products__train.csv.zip  \n",
            "  inflating: __MACOSX/instacart-market-basket-analysis/._order_products__train.csv.zip  \n",
            "  inflating: instacart-market-basket-analysis/aisles.csv.zip  \n",
            "  inflating: __MACOSX/instacart-market-basket-analysis/._aisles.csv.zip  \n",
            "  inflating: instacart-market-basket-analysis/orders.csv.zip  \n",
            "  inflating: __MACOSX/instacart-market-basket-analysis/._orders.csv.zip  \n",
            "  inflating: instacart-market-basket-analysis/departments.csv.zip  \n",
            "  inflating: __MACOSX/instacart-market-basket-analysis/._departments.csv.zip  \n",
            "  inflating: instacart-market-basket-analysis/products.csv.zip  \n",
            "  inflating: __MACOSX/instacart-market-basket-analysis/._products.csv.zip  \n"
          ],
          "name": "stdout"
        }
      ]
    },
    {
      "cell_type": "code",
      "metadata": {
        "id": "qaDdXbQqCnGc",
        "outputId": "586c4bf3-6b3e-4d93-efe1-5eb8bd4bace5",
        "colab": {
          "base_uri": "https://localhost:8080/"
        }
      },
      "source": [
        "# Change into the newly-unzipped directory\n",
        "#\n",
        "# % sign is required to change to a new directory -- you can't use !cd like\n",
        "# other commands\n",
        "#\n",
        "# Optional technical details:\n",
        "#\n",
        "# % makes the command apply to the **entire notebook environment**, which is\n",
        "# what you need to do to change the working directory\n",
        "#\n",
        "# The ! sign **opens a new shell process** behind the scenes to execute the\n",
        "# command -- this works fine for regular commands like unzip and ls\n",
        "#\n",
        "# Therefore, !cd would apply only to that new shell and wouldn't change the\n",
        "# global notebook environment\n",
        "#\n",
        "# If this makes your heard hurt, don't worry too much about it. We'll talk\n",
        "# more about the shell and operating systems stuff later in the program.\n",
        "\n",
        "%cd instacart-market-basket-analysis"
      ],
      "execution_count": 3,
      "outputs": [
        {
          "output_type": "stream",
          "text": [
            "/content/instacart-market-basket-analysis\n"
          ],
          "name": "stdout"
        }
      ]
    },
    {
      "cell_type": "code",
      "metadata": {
        "id": "eADz6civ204P",
        "outputId": "7355264c-ee54-4841-f967-20cb961e564a",
        "colab": {
          "base_uri": "https://localhost:8080/"
        }
      },
      "source": [
        "# Unzip all .csv.zip files in the directory\n",
        "!unzip \"*.zip\""
      ],
      "execution_count": 4,
      "outputs": [
        {
          "output_type": "stream",
          "text": [
            "Archive:  order_products__train.csv.zip\n",
            "  inflating: order_products__train.csv  \n",
            "   creating: __MACOSX/\n",
            "  inflating: __MACOSX/._order_products__train.csv  \n",
            "\n",
            "Archive:  aisles.csv.zip\n",
            "  inflating: aisles.csv              \n",
            "  inflating: __MACOSX/._aisles.csv   \n",
            "\n",
            "Archive:  orders.csv.zip\n",
            "  inflating: orders.csv              \n",
            "  inflating: __MACOSX/._orders.csv   \n",
            "\n",
            "Archive:  departments.csv.zip\n",
            "  inflating: departments.csv         \n",
            "  inflating: __MACOSX/._departments.csv  \n",
            "\n",
            "Archive:  order_products__prior.csv.zip\n",
            "  inflating: order_products__prior.csv  \n",
            "  inflating: __MACOSX/._order_products__prior.csv  \n",
            "\n",
            "Archive:  products.csv.zip\n",
            "  inflating: products.csv            \n",
            "  inflating: __MACOSX/._products.csv  \n",
            "\n",
            "6 archives were successfully processed.\n"
          ],
          "name": "stdout"
        }
      ]
    },
    {
      "cell_type": "code",
      "metadata": {
        "id": "nnEkWO4E2_w2",
        "outputId": "e1b22164-9397-477c-ea2c-fcc337c7646b",
        "colab": {
          "base_uri": "https://localhost:8080/"
        }
      },
      "source": [
        "# List all csv files in the current directory\n",
        "# -l specifies the \"long\" listing format, which includes additional info on each file\n",
        "# -h specifies \"human readable\" file size units\n",
        "!ls -l -h *.csv"
      ],
      "execution_count": 5,
      "outputs": [
        {
          "output_type": "stream",
          "text": [
            "-rw-r--r-- 1 root root 2.6K May  2  2017 aisles.csv\n",
            "-rw-r--r-- 1 root root  270 May  2  2017 departments.csv\n",
            "-rw-r--r-- 1 root root 551M May  2  2017 order_products__prior.csv\n",
            "-rw-r--r-- 1 root root  24M May  2  2017 order_products__train.csv\n",
            "-rw-r--r-- 1 root root 104M May  2  2017 orders.csv\n",
            "-rw-r--r-- 1 root root 2.1M May  2  2017 products.csv\n"
          ],
          "name": "stdout"
        }
      ]
    },
    {
      "cell_type": "markdown",
      "metadata": {
        "id": "kAMtvSQWPUcj"
      },
      "source": [
        "#Use the follwing information to answer the assignment questions.\n",
        "\n",
        "These are the top 10 most frequently ordered products. How many times was each ordered? \n",
        "\n",
        "1. Banana\n",
        "2. Bag of Organic Bananas\n",
        "3. Organic Strawberries\n",
        "4. Organic Baby Spinach \n",
        "5. Organic Hass Avocado\n",
        "6. Organic Avocado\n",
        "7. Large Lemon \n",
        "8. Strawberries\n",
        "9. Limes \n",
        "10. Organic Whole Milk"
      ]
    },
    {
      "cell_type": "markdown",
      "metadata": {
        "id": "xDyL5XUi4FKq"
      },
      "source": [
        "1) Save the products.csv file as a data frame called product_names.  Print the first 5 rows of product_names."
      ]
    },
    {
      "cell_type": "code",
      "metadata": {
        "id": "sDZ_d8104pH1",
        "outputId": "8d2651b3-ea94-48d2-ddb5-716a17233d76",
        "colab": {
          "base_uri": "https://localhost:8080/",
          "height": 204
        }
      },
      "source": [
        "import pandas as pd\n",
        "product_names = pd.read_csv('products.csv')\n",
        "product_names.head()"
      ],
      "execution_count": 8,
      "outputs": [
        {
          "output_type": "execute_result",
          "data": {
            "text/html": [
              "<div>\n",
              "<style scoped>\n",
              "    .dataframe tbody tr th:only-of-type {\n",
              "        vertical-align: middle;\n",
              "    }\n",
              "\n",
              "    .dataframe tbody tr th {\n",
              "        vertical-align: top;\n",
              "    }\n",
              "\n",
              "    .dataframe thead th {\n",
              "        text-align: right;\n",
              "    }\n",
              "</style>\n",
              "<table border=\"1\" class=\"dataframe\">\n",
              "  <thead>\n",
              "    <tr style=\"text-align: right;\">\n",
              "      <th></th>\n",
              "      <th>product_id</th>\n",
              "      <th>product_name</th>\n",
              "      <th>aisle_id</th>\n",
              "      <th>department_id</th>\n",
              "    </tr>\n",
              "  </thead>\n",
              "  <tbody>\n",
              "    <tr>\n",
              "      <th>0</th>\n",
              "      <td>1</td>\n",
              "      <td>Chocolate Sandwich Cookies</td>\n",
              "      <td>61</td>\n",
              "      <td>19</td>\n",
              "    </tr>\n",
              "    <tr>\n",
              "      <th>1</th>\n",
              "      <td>2</td>\n",
              "      <td>All-Seasons Salt</td>\n",
              "      <td>104</td>\n",
              "      <td>13</td>\n",
              "    </tr>\n",
              "    <tr>\n",
              "      <th>2</th>\n",
              "      <td>3</td>\n",
              "      <td>Robust Golden Unsweetened Oolong Tea</td>\n",
              "      <td>94</td>\n",
              "      <td>7</td>\n",
              "    </tr>\n",
              "    <tr>\n",
              "      <th>3</th>\n",
              "      <td>4</td>\n",
              "      <td>Smart Ones Classic Favorites Mini Rigatoni Wit...</td>\n",
              "      <td>38</td>\n",
              "      <td>1</td>\n",
              "    </tr>\n",
              "    <tr>\n",
              "      <th>4</th>\n",
              "      <td>5</td>\n",
              "      <td>Green Chile Anytime Sauce</td>\n",
              "      <td>5</td>\n",
              "      <td>13</td>\n",
              "    </tr>\n",
              "  </tbody>\n",
              "</table>\n",
              "</div>"
            ],
            "text/plain": [
              "   product_id  ... department_id\n",
              "0           1  ...            19\n",
              "1           2  ...            13\n",
              "2           3  ...             7\n",
              "3           4  ...             1\n",
              "4           5  ...            13\n",
              "\n",
              "[5 rows x 4 columns]"
            ]
          },
          "metadata": {
            "tags": []
          },
          "execution_count": 8
        }
      ]
    },
    {
      "cell_type": "markdown",
      "metadata": {
        "id": "nAYozVNF33-t"
      },
      "source": [
        "2) Read in order_products_prior.csv and order_products_train.csv.  Concatenate them into one dataset called order_product_link."
      ]
    },
    {
      "cell_type": "code",
      "metadata": {
        "id": "6o_HZWaU47BH",
        "outputId": "e8dec88b-ee39-46f7-c2ca-348817354658",
        "colab": {
          "base_uri": "https://localhost:8080/",
          "height": 204
        }
      },
      "source": [
        "order_products_prior = pd.read_csv('order_products__prior.csv') \n",
        "order_products_train = pd.read_csv('order_products__train.csv')\n",
        "order_product_link = pd.concat([order_products_prior,order_products_train])\n",
        "order_product_link.head()"
      ],
      "execution_count": 34,
      "outputs": [
        {
          "output_type": "execute_result",
          "data": {
            "text/html": [
              "<div>\n",
              "<style scoped>\n",
              "    .dataframe tbody tr th:only-of-type {\n",
              "        vertical-align: middle;\n",
              "    }\n",
              "\n",
              "    .dataframe tbody tr th {\n",
              "        vertical-align: top;\n",
              "    }\n",
              "\n",
              "    .dataframe thead th {\n",
              "        text-align: right;\n",
              "    }\n",
              "</style>\n",
              "<table border=\"1\" class=\"dataframe\">\n",
              "  <thead>\n",
              "    <tr style=\"text-align: right;\">\n",
              "      <th></th>\n",
              "      <th>order_id</th>\n",
              "      <th>product_id</th>\n",
              "      <th>add_to_cart_order</th>\n",
              "      <th>reordered</th>\n",
              "    </tr>\n",
              "  </thead>\n",
              "  <tbody>\n",
              "    <tr>\n",
              "      <th>0</th>\n",
              "      <td>2</td>\n",
              "      <td>33120</td>\n",
              "      <td>1</td>\n",
              "      <td>1</td>\n",
              "    </tr>\n",
              "    <tr>\n",
              "      <th>1</th>\n",
              "      <td>2</td>\n",
              "      <td>28985</td>\n",
              "      <td>2</td>\n",
              "      <td>1</td>\n",
              "    </tr>\n",
              "    <tr>\n",
              "      <th>2</th>\n",
              "      <td>2</td>\n",
              "      <td>9327</td>\n",
              "      <td>3</td>\n",
              "      <td>0</td>\n",
              "    </tr>\n",
              "    <tr>\n",
              "      <th>3</th>\n",
              "      <td>2</td>\n",
              "      <td>45918</td>\n",
              "      <td>4</td>\n",
              "      <td>1</td>\n",
              "    </tr>\n",
              "    <tr>\n",
              "      <th>4</th>\n",
              "      <td>2</td>\n",
              "      <td>30035</td>\n",
              "      <td>5</td>\n",
              "      <td>0</td>\n",
              "    </tr>\n",
              "  </tbody>\n",
              "</table>\n",
              "</div>"
            ],
            "text/plain": [
              "   order_id  product_id  add_to_cart_order  reordered\n",
              "0         2       33120                  1          1\n",
              "1         2       28985                  2          1\n",
              "2         2        9327                  3          0\n",
              "3         2       45918                  4          1\n",
              "4         2       30035                  5          0"
            ]
          },
          "metadata": {
            "tags": []
          },
          "execution_count": 34
        }
      ]
    },
    {
      "cell_type": "markdown",
      "metadata": {
        "id": "QsGoQ0rI7FIb"
      },
      "source": [
        "3) Use the code below to identify the top 10 most ordered products. Clearly Instacart users really like avocados..."
      ]
    },
    {
      "cell_type": "code",
      "metadata": {
        "id": "VvwRD6mh7AiE"
      },
      "source": [
        "ten_products = [\"Banana\", \"Bag of Organic Bananas\", \"Organic Strawberries\", \"Organic Baby Spinach\", \"Organic Hass Avocado\", \"Organic Avocado\", \"Large Lemon\", \"Strawberries\", \"Limes\", \"Organic Whole Milk\"]"
      ],
      "execution_count": 29,
      "outputs": []
    },
    {
      "cell_type": "markdown",
      "metadata": {
        "id": "tQehWuPf7Y6N"
      },
      "source": [
        "4) Create a subset of the product_names dataset that includes just the top 10 most ordered products.  Call that dataset product_names_10"
      ]
    },
    {
      "cell_type": "code",
      "metadata": {
        "id": "6ZX0OeGU7gAa",
        "outputId": "b7516e88-21eb-4917-d87f-eb8d2de3439e",
        "colab": {
          "base_uri": "https://localhost:8080/",
          "height": 204
        }
      },
      "source": [
        "product_names_10 = product_names[product_names['product_name'].isin(ten_products)]\n",
        "product_names_10.head()"
      ],
      "execution_count": 37,
      "outputs": [
        {
          "output_type": "execute_result",
          "data": {
            "text/html": [
              "<div>\n",
              "<style scoped>\n",
              "    .dataframe tbody tr th:only-of-type {\n",
              "        vertical-align: middle;\n",
              "    }\n",
              "\n",
              "    .dataframe tbody tr th {\n",
              "        vertical-align: top;\n",
              "    }\n",
              "\n",
              "    .dataframe thead th {\n",
              "        text-align: right;\n",
              "    }\n",
              "</style>\n",
              "<table border=\"1\" class=\"dataframe\">\n",
              "  <thead>\n",
              "    <tr style=\"text-align: right;\">\n",
              "      <th></th>\n",
              "      <th>product_id</th>\n",
              "      <th>product_name</th>\n",
              "      <th>aisle_id</th>\n",
              "      <th>department_id</th>\n",
              "    </tr>\n",
              "  </thead>\n",
              "  <tbody>\n",
              "    <tr>\n",
              "      <th>13175</th>\n",
              "      <td>13176</td>\n",
              "      <td>Bag of Organic Bananas</td>\n",
              "      <td>24</td>\n",
              "      <td>4</td>\n",
              "    </tr>\n",
              "    <tr>\n",
              "      <th>16796</th>\n",
              "      <td>16797</td>\n",
              "      <td>Strawberries</td>\n",
              "      <td>24</td>\n",
              "      <td>4</td>\n",
              "    </tr>\n",
              "    <tr>\n",
              "      <th>21136</th>\n",
              "      <td>21137</td>\n",
              "      <td>Organic Strawberries</td>\n",
              "      <td>24</td>\n",
              "      <td>4</td>\n",
              "    </tr>\n",
              "    <tr>\n",
              "      <th>21902</th>\n",
              "      <td>21903</td>\n",
              "      <td>Organic Baby Spinach</td>\n",
              "      <td>123</td>\n",
              "      <td>4</td>\n",
              "    </tr>\n",
              "    <tr>\n",
              "      <th>24851</th>\n",
              "      <td>24852</td>\n",
              "      <td>Banana</td>\n",
              "      <td>24</td>\n",
              "      <td>4</td>\n",
              "    </tr>\n",
              "  </tbody>\n",
              "</table>\n",
              "</div>"
            ],
            "text/plain": [
              "       product_id            product_name  aisle_id  department_id\n",
              "13175       13176  Bag of Organic Bananas        24              4\n",
              "16796       16797            Strawberries        24              4\n",
              "21136       21137    Organic Strawberries        24              4\n",
              "21902       21903    Organic Baby Spinach       123              4\n",
              "24851       24852                  Banana        24              4"
            ]
          },
          "metadata": {
            "tags": []
          },
          "execution_count": 37
        }
      ]
    },
    {
      "cell_type": "markdown",
      "metadata": {
        "id": "PuIVJyJp8Zje"
      },
      "source": [
        "5) Merge the order_product_link dataset with the product_names_10 dataset and print the top 20 rows.  Call the new dataset product_orders."
      ]
    },
    {
      "cell_type": "code",
      "metadata": {
        "id": "PJPGAWEk7OVS",
        "outputId": "5fce53c0-5b04-41c2-c88c-597be7918025",
        "colab": {
          "base_uri": "https://localhost:8080/",
          "height": 359
        }
      },
      "source": [
        "product_orders = pd.merge(product_names,product_names_10)\n",
        "product_orders.head(20)"
      ],
      "execution_count": 42,
      "outputs": [
        {
          "output_type": "execute_result",
          "data": {
            "text/html": [
              "<div>\n",
              "<style scoped>\n",
              "    .dataframe tbody tr th:only-of-type {\n",
              "        vertical-align: middle;\n",
              "    }\n",
              "\n",
              "    .dataframe tbody tr th {\n",
              "        vertical-align: top;\n",
              "    }\n",
              "\n",
              "    .dataframe thead th {\n",
              "        text-align: right;\n",
              "    }\n",
              "</style>\n",
              "<table border=\"1\" class=\"dataframe\">\n",
              "  <thead>\n",
              "    <tr style=\"text-align: right;\">\n",
              "      <th></th>\n",
              "      <th>product_id</th>\n",
              "      <th>product_name</th>\n",
              "      <th>aisle_id</th>\n",
              "      <th>department_id</th>\n",
              "    </tr>\n",
              "  </thead>\n",
              "  <tbody>\n",
              "    <tr>\n",
              "      <th>0</th>\n",
              "      <td>13176</td>\n",
              "      <td>Bag of Organic Bananas</td>\n",
              "      <td>24</td>\n",
              "      <td>4</td>\n",
              "    </tr>\n",
              "    <tr>\n",
              "      <th>1</th>\n",
              "      <td>16797</td>\n",
              "      <td>Strawberries</td>\n",
              "      <td>24</td>\n",
              "      <td>4</td>\n",
              "    </tr>\n",
              "    <tr>\n",
              "      <th>2</th>\n",
              "      <td>21137</td>\n",
              "      <td>Organic Strawberries</td>\n",
              "      <td>24</td>\n",
              "      <td>4</td>\n",
              "    </tr>\n",
              "    <tr>\n",
              "      <th>3</th>\n",
              "      <td>21903</td>\n",
              "      <td>Organic Baby Spinach</td>\n",
              "      <td>123</td>\n",
              "      <td>4</td>\n",
              "    </tr>\n",
              "    <tr>\n",
              "      <th>4</th>\n",
              "      <td>24852</td>\n",
              "      <td>Banana</td>\n",
              "      <td>24</td>\n",
              "      <td>4</td>\n",
              "    </tr>\n",
              "    <tr>\n",
              "      <th>5</th>\n",
              "      <td>26209</td>\n",
              "      <td>Limes</td>\n",
              "      <td>24</td>\n",
              "      <td>4</td>\n",
              "    </tr>\n",
              "    <tr>\n",
              "      <th>6</th>\n",
              "      <td>27845</td>\n",
              "      <td>Organic Whole Milk</td>\n",
              "      <td>84</td>\n",
              "      <td>16</td>\n",
              "    </tr>\n",
              "    <tr>\n",
              "      <th>7</th>\n",
              "      <td>47209</td>\n",
              "      <td>Organic Hass Avocado</td>\n",
              "      <td>24</td>\n",
              "      <td>4</td>\n",
              "    </tr>\n",
              "    <tr>\n",
              "      <th>8</th>\n",
              "      <td>47626</td>\n",
              "      <td>Large Lemon</td>\n",
              "      <td>24</td>\n",
              "      <td>4</td>\n",
              "    </tr>\n",
              "    <tr>\n",
              "      <th>9</th>\n",
              "      <td>47766</td>\n",
              "      <td>Organic Avocado</td>\n",
              "      <td>24</td>\n",
              "      <td>4</td>\n",
              "    </tr>\n",
              "  </tbody>\n",
              "</table>\n",
              "</div>"
            ],
            "text/plain": [
              "   product_id            product_name  aisle_id  department_id\n",
              "0       13176  Bag of Organic Bananas        24              4\n",
              "1       16797            Strawberries        24              4\n",
              "2       21137    Organic Strawberries        24              4\n",
              "3       21903    Organic Baby Spinach       123              4\n",
              "4       24852                  Banana        24              4\n",
              "5       26209                   Limes        24              4\n",
              "6       27845      Organic Whole Milk        84             16\n",
              "7       47209    Organic Hass Avocado        24              4\n",
              "8       47626             Large Lemon        24              4\n",
              "9       47766         Organic Avocado        24              4"
            ]
          },
          "metadata": {
            "tags": []
          },
          "execution_count": 42
        }
      ]
    },
    {
      "cell_type": "markdown",
      "metadata": {
        "id": "RBsXg9dZ9OL9"
      },
      "source": [
        "6) Note that every record product_orders dataset is a single instance in which someone ordered one of the top 10 products.  \n",
        "\n",
        "Calcluate the number of times each product was ordered.  What was the most frequently ordered food?"
      ]
    },
    {
      "cell_type": "code",
      "metadata": {
        "id": "9j121LNl9ADc"
      },
      "source": [
        "### YOUR CODE HERE ###"
      ],
      "execution_count": null,
      "outputs": []
    },
    {
      "cell_type": "markdown",
      "metadata": {
        "id": "wKoMvy-D-jxZ"
      },
      "source": [
        "#Now we want to figure out when people are ordering all these bananas.\n"
      ]
    },
    {
      "cell_type": "markdown",
      "metadata": {
        "id": "Yf7Aqs0K-2FM"
      },
      "source": [
        "7) Import orders.csv and name the dataset \"orders\".  Print the top 5 observations in orders.\n",
        "\n"
      ]
    },
    {
      "cell_type": "code",
      "metadata": {
        "id": "wj4r-FYzEAL1"
      },
      "source": [
        "### YOUR CODE HERE ###"
      ],
      "execution_count": null,
      "outputs": []
    },
    {
      "cell_type": "markdown",
      "metadata": {
        "id": "UJLKgUt_AAlW"
      },
      "source": [
        "8) Merge the orders dataset and the product_orders dataset so we can see the time each order of each of the top 10 products was placed."
      ]
    },
    {
      "cell_type": "code",
      "metadata": {
        "id": "lu-21j9cEws6"
      },
      "source": [
        "### YOUR CODE HERE ###"
      ],
      "execution_count": null,
      "outputs": []
    },
    {
      "cell_type": "markdown",
      "metadata": {
        "id": "88iUSPClAl2_"
      },
      "source": [
        "9) Create a subset of order_times that includes only orders of Bananas.  Call that dataset Bananas."
      ]
    },
    {
      "cell_type": "code",
      "metadata": {
        "id": "wqILRrRWoQGI"
      },
      "source": [
        "### YOUR CODE HERE ###"
      ],
      "execution_count": null,
      "outputs": []
    },
    {
      "cell_type": "markdown",
      "metadata": {
        "id": "9CVjG_HgA-UR"
      },
      "source": [
        "10) Run the following code to show a histogram of the times of banana orders (times after noon are written as 13 hours, 14 hours, etc.)"
      ]
    },
    {
      "cell_type": "code",
      "metadata": {
        "id": "0Wjqd0OJA4s2"
      },
      "source": [
        "import matplotlib.pyplot as plt\n",
        "\n",
        "plt.hist(bananas['order_hour_of_day'],bins=24, color='blue')\n",
        "\n",
        "plt.xlabel('Hour of the Day')\n",
        "plt.ylabel('Number of Times Bananas are Ordered')\n",
        "plt.title('Banana Orders by Time of Day')\n",
        "\n",
        "plt.show()"
      ],
      "execution_count": null,
      "outputs": []
    },
    {
      "cell_type": "markdown",
      "metadata": {
        "id": "xP-LnICJBbaN"
      },
      "source": [
        "11) When were bananas most frequently ordered?"
      ]
    },
    {
      "cell_type": "markdown",
      "metadata": {
        "id": "2uxIbDtSBhGs"
      },
      "source": [
        "Answer here: "
      ]
    },
    {
      "cell_type": "markdown",
      "metadata": {
        "id": "uj4qmn_6BqyP"
      },
      "source": [
        "12) Were avocados ordered at a different time a day?  Modify the code below by replacing the ??? to create a histogram of order times of Organic Haas Avocados."
      ]
    },
    {
      "cell_type": "code",
      "metadata": {
        "id": "gj76G-9mAzui"
      },
      "source": [
        "#Calculate mean order times by product\n",
        "\n",
        "Haas_avocado = order_times.loc[order_times['product_name'] == '????????']\n",
        "\n",
        "\n",
        "import matplotlib.pyplot as plt\n",
        "\n",
        "plt.hist(Haas_avocado['order_hour_of_day'],bins=24, color='red')\n",
        "\n",
        "plt.xlabel('Hour of the Day')\n",
        "plt.ylabel('Number of Times ?????????? are Ordered')\n",
        "plt.title('???????????? Orders by Time of Day')\n",
        "\n",
        "plt.show()"
      ],
      "execution_count": null,
      "outputs": []
    },
    {
      "cell_type": "markdown",
      "metadata": {
        "id": "iTIxum7NCyu1"
      },
      "source": [
        "Answer here: "
      ]
    },
    {
      "cell_type": "markdown",
      "metadata": {
        "id": "mh-XJVuyDbRt"
      },
      "source": [
        "# Portfolio Project Milestone\n",
        "\n",
        "Watch the Showcase Project (formerly known as Build Week) kickoff video to get a sense of what you will accomplish over the next few weeks:\n",
        "https://youtu.be/WYi9EXH-9lU"
      ]
    }
  ]
}